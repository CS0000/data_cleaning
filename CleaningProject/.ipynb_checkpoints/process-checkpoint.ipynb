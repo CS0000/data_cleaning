{
 "cells": [
  {
   "cell_type": "code",
   "execution_count": 1,
   "metadata": {},
   "outputs": [],
   "source": [
    "import pandas as pd\n",
    "from pandas_profiling import ProfileReport\n",
    "import numpy as np\n",
    "from collections import Counter"
   ]
  },
  {
   "cell_type": "markdown",
   "metadata": {},
   "source": [
    "## 1. import raw data"
   ]
  },
  {
   "cell_type": "code",
   "execution_count": 2,
   "metadata": {},
   "outputs": [],
   "source": [
    "raw_data = pd.read_csv('./raw_data/HF_fake_v1.csv',header=None, index_col=None,sep=',')"
   ]
  },
  {
   "cell_type": "code",
   "execution_count": 3,
   "metadata": {},
   "outputs": [
    {
     "data": {
      "text/html": [
       "<div>\n",
       "<style scoped>\n",
       "    .dataframe tbody tr th:only-of-type {\n",
       "        vertical-align: middle;\n",
       "    }\n",
       "\n",
       "    .dataframe tbody tr th {\n",
       "        vertical-align: top;\n",
       "    }\n",
       "\n",
       "    .dataframe thead th {\n",
       "        text-align: right;\n",
       "    }\n",
       "</style>\n",
       "<table border=\"1\" class=\"dataframe\">\n",
       "  <thead>\n",
       "    <tr style=\"text-align: right;\">\n",
       "      <th></th>\n",
       "      <th>0</th>\n",
       "      <th>1</th>\n",
       "      <th>2</th>\n",
       "      <th>3</th>\n",
       "      <th>4</th>\n",
       "      <th>5</th>\n",
       "      <th>6</th>\n",
       "      <th>7</th>\n",
       "      <th>8</th>\n",
       "      <th>9</th>\n",
       "      <th>10</th>\n",
       "      <th>11</th>\n",
       "      <th>12</th>\n",
       "      <th>13</th>\n",
       "      <th>14</th>\n",
       "      <th>15</th>\n",
       "    </tr>\n",
       "  </thead>\n",
       "  <tbody>\n",
       "    <tr>\n",
       "      <th>0</th>\n",
       "      <td>ID</td>\n",
       "      <td>age</td>\n",
       "      <td>age</td>\n",
       "      <td>anaemia</td>\n",
       "      <td>creatinine_phosphokinase</td>\n",
       "      <td>diabetes</td>\n",
       "      <td>ejection_fraction</td>\n",
       "      <td>high_blood_pressure</td>\n",
       "      <td>high_blood_pressure</td>\n",
       "      <td>platelets</td>\n",
       "      <td>serum_creatinine</td>\n",
       "      <td>serum_sodium</td>\n",
       "      <td>sex</td>\n",
       "      <td>smoking</td>\n",
       "      <td>time</td>\n",
       "      <td>DEATH_EVENT</td>\n",
       "    </tr>\n",
       "    <tr>\n",
       "      <th>1</th>\n",
       "      <td>s1</td>\n",
       "      <td>75</td>\n",
       "      <td>75</td>\n",
       "      <td>0</td>\n",
       "      <td>582</td>\n",
       "      <td>0</td>\n",
       "      <td>20</td>\n",
       "      <td>1</td>\n",
       "      <td>121</td>\n",
       "      <td>265000</td>\n",
       "      <td>1.9</td>\n",
       "      <td>130</td>\n",
       "      <td>1</td>\n",
       "      <td>0</td>\n",
       "      <td>4</td>\n",
       "      <td>1</td>\n",
       "    </tr>\n",
       "    <tr>\n",
       "      <th>2</th>\n",
       "      <td>s2</td>\n",
       "      <td>55</td>\n",
       "      <td>55</td>\n",
       "      <td>0</td>\n",
       "      <td>7861</td>\n",
       "      <td>0</td>\n",
       "      <td>38</td>\n",
       "      <td>0</td>\n",
       "      <td>154</td>\n",
       "      <td>263358.03</td>\n",
       "      <td>1.1</td>\n",
       "      <td>136</td>\n",
       "      <td>1</td>\n",
       "      <td>0</td>\n",
       "      <td>6</td>\n",
       "      <td>1</td>\n",
       "    </tr>\n",
       "    <tr>\n",
       "      <th>3</th>\n",
       "      <td>s3</td>\n",
       "      <td>65</td>\n",
       "      <td>65</td>\n",
       "      <td>0</td>\n",
       "      <td>146</td>\n",
       "      <td>0</td>\n",
       "      <td>20</td>\n",
       "      <td>0</td>\n",
       "      <td>189</td>\n",
       "      <td>162000</td>\n",
       "      <td>1.3</td>\n",
       "      <td>129</td>\n",
       "      <td>1</td>\n",
       "      <td>1</td>\n",
       "      <td>7</td>\n",
       "      <td>1</td>\n",
       "    </tr>\n",
       "    <tr>\n",
       "      <th>4</th>\n",
       "      <td>s4</td>\n",
       "      <td>50</td>\n",
       "      <td>50</td>\n",
       "      <td>1</td>\n",
       "      <td>111</td>\n",
       "      <td>0</td>\n",
       "      <td>20</td>\n",
       "      <td>0</td>\n",
       "      <td>206</td>\n",
       "      <td>210000</td>\n",
       "      <td>1.9</td>\n",
       "      <td>137</td>\n",
       "      <td>1</td>\n",
       "      <td>0</td>\n",
       "      <td>7</td>\n",
       "      <td>1</td>\n",
       "    </tr>\n",
       "  </tbody>\n",
       "</table>\n",
       "</div>"
      ],
      "text/plain": [
       "   0    1    2        3                         4         5   \\\n",
       "0  ID  age  age  anaemia  creatinine_phosphokinase  diabetes   \n",
       "1  s1   75   75        0                       582         0   \n",
       "2  s2   55   55        0                      7861         0   \n",
       "3  s3   65   65        0                       146         0   \n",
       "4  s4   50   50        1                       111         0   \n",
       "\n",
       "                  6                    7                    8          9   \\\n",
       "0  ejection_fraction  high_blood_pressure  high_blood_pressure  platelets   \n",
       "1                 20                    1                  121     265000   \n",
       "2                 38                    0                  154  263358.03   \n",
       "3                 20                    0                  189     162000   \n",
       "4                 20                    0                  206     210000   \n",
       "\n",
       "                 10            11   12       13    14           15  \n",
       "0  serum_creatinine  serum_sodium  sex  smoking  time  DEATH_EVENT  \n",
       "1               1.9           130    1        0     4            1  \n",
       "2               1.1           136    1        0     6            1  \n",
       "3               1.3           129    1        1     7            1  \n",
       "4               1.9           137    1        0     7            1  "
      ]
     },
     "execution_count": 3,
     "metadata": {},
     "output_type": "execute_result"
    }
   ],
   "source": [
    "raw_data.head()"
   ]
  },
  {
   "cell_type": "markdown",
   "metadata": {},
   "source": [
    "## 2. check duplicated rows/columns"
   ]
  },
  {
   "cell_type": "code",
   "execution_count": 4,
   "metadata": {},
   "outputs": [
    {
     "name": "stdout",
     "output_type": "stream",
     "text": [
      "raw data shape: (303, 15)\n"
     ]
    }
   ],
   "source": [
    "print(f'raw data shape: {raw_data.shape}')"
   ]
  },
  {
   "cell_type": "markdown",
   "metadata": {},
   "source": [
    "### 2.1 check duplicated columns"
   ]
  },
  {
   "cell_type": "code",
   "execution_count": 4,
   "metadata": {},
   "outputs": [
    {
     "data": {
      "text/plain": [
       "{'ID': 1,\n",
       " 'age': 2,\n",
       " 'anaemia': 1,\n",
       " 'creatinine_phosphokinase': 1,\n",
       " 'diabetes': 1,\n",
       " 'ejection_fraction': 1,\n",
       " 'high_blood_pressure': 2,\n",
       " 'platelets': 1,\n",
       " 'serum_creatinine': 1,\n",
       " 'serum_sodium': 1,\n",
       " 'sex': 1,\n",
       " 'smoking': 1,\n",
       " 'time': 1,\n",
       " 'DEATH_EVENT': 1}"
      ]
     },
     "execution_count": 4,
     "metadata": {},
     "output_type": "execute_result"
    }
   ],
   "source": [
    "# columns(features) number counts\n",
    "dict(Counter(raw_data.iloc[0,:].tolist()))"
   ]
  },
  {
   "cell_type": "code",
   "execution_count": 5,
   "metadata": {},
   "outputs": [
    {
     "name": "stdout",
     "output_type": "stream",
     "text": [
      "age\n",
      "high_blood_pressure\n"
     ]
    }
   ],
   "source": [
    "# duplicated columns(features): count more than one\n",
    "# print the duplicated features\n",
    "for k,v in dict(Counter(raw_data.iloc[0,:].tolist())).items():\n",
    "    if v > 1:\n",
    "        print(k)"
   ]
  },
  {
   "cell_type": "code",
   "execution_count": 110,
   "metadata": {},
   "outputs": [],
   "source": [
    "# check the duplicated columns: if they are completely the same?\n",
    "def duplicated_columns_check(col_name):\n",
    "    d = raw_data.loc[:,raw_data.iloc[0,:] == col_name].values\n",
    "    d_len = d.shape[1]\n",
    "    \n",
    "    check = []\n",
    "    for i in range(d_len-1):\n",
    "        check.append(list(d[:,i]) == list(d[:,i+1]))\n",
    "    \n",
    "    if sum(check) == d_len-1:\n",
    "        return 'identical'\n",
    "    else:\n",
    "        return 'not identical' "
   ]
  },
  {
   "cell_type": "code",
   "execution_count": 112,
   "metadata": {},
   "outputs": [
    {
     "name": "stdout",
     "output_type": "stream",
     "text": [
      "age: duplicated column names, with identical contents\n",
      "high_blood_pressure: duplicated column names, with not identical contents\n"
     ]
    }
   ],
   "source": [
    "print(f\"age: duplicated column names, with {duplicated_columns_check('age')} contents\")\n",
    "print(f\"high_blood_pressure: duplicated column names, with {duplicated_columns_check('high_blood_pressure')} contents\")"
   ]
  },
  {
   "cell_type": "markdown",
   "metadata": {},
   "source": [
    "### 2.2 check duplicated rows"
   ]
  },
  {
   "cell_type": "code",
   "execution_count": null,
   "metadata": {},
   "outputs": [],
   "source": []
  },
  {
   "cell_type": "code",
   "execution_count": null,
   "metadata": {},
   "outputs": [],
   "source": []
  },
  {
   "cell_type": "code",
   "execution_count": null,
   "metadata": {},
   "outputs": [],
   "source": []
  },
  {
   "cell_type": "code",
   "execution_count": null,
   "metadata": {},
   "outputs": [],
   "source": []
  },
  {
   "cell_type": "code",
   "execution_count": null,
   "metadata": {},
   "outputs": [],
   "source": []
  },
  {
   "cell_type": "code",
   "execution_count": null,
   "metadata": {},
   "outputs": [],
   "source": []
  }
 ],
 "metadata": {
  "kernelspec": {
   "display_name": "ccss",
   "language": "python",
   "name": "ccss"
  },
  "language_info": {
   "codemirror_mode": {
    "name": "ipython",
    "version": 3
   },
   "file_extension": ".py",
   "mimetype": "text/x-python",
   "name": "python",
   "nbconvert_exporter": "python",
   "pygments_lexer": "ipython3",
   "version": "3.8.5"
  }
 },
 "nbformat": 4,
 "nbformat_minor": 4
}
